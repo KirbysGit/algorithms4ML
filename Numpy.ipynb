{
 "cells": [
  {
   "cell_type": "markdown",
   "id": "e24493a4",
   "metadata": {},
   "source": [
    "# **Programming Assignment: Exploring Python, NumPy, and Matplotlib**"
   ]
  },
  {
   "cell_type": "markdown",
   "id": "6c63e68a",
   "metadata": {},
   "source": [
    "**Objective:** This assignment will evaluate your proficiency in Python programming, particularly in using core data structures, NumPy for numerical computations, and Matplotlib for data visualization."
   ]
  },
  {
   "cell_type": "markdown",
   "id": "6fb892df",
   "metadata": {},
   "source": [
    "## **Grading Criteria**"
   ]
  },
  {
   "cell_type": "markdown",
   "id": "79892b77",
   "metadata": {},
   "source": [
    "Part 1: 20 points (10 for Lists and Dictionaries && 10 for String Manipulation)\n",
    "Part 2: 20 Points (10 for Array Creation and Manipulation && 10 for Linear Algebra with Numpy) \n",
    "Part 3: 10 points"
   ]
  },
  {
   "cell_type": "markdown",
   "id": "80396123",
   "metadata": {},
   "source": [
    "## **Submission Instructions**"
   ]
  },
  {
   "cell_type": "markdown",
   "id": "451ca040",
   "metadata": {},
   "source": [
    "Submit your code as a single Jupyter Notebook file (`assignment.ipynb`).\n",
    "Ensure that your notebook is well-commented and that each section is clearly labeled.\n",
    "Include any necessary explanations in markdown cells."
   ]
  },
  {
   "cell_type": "markdown",
   "id": "bf0cd21b",
   "metadata": {},
   "source": [
    "## **Part 1: Python Basics**"
   ]
  },
  {
   "cell_type": "markdown",
   "id": "6232d23a",
   "metadata": {},
   "source": [
    "### 1. **Lists and Dictionaries**"
   ]
  },
  {
   "cell_type": "markdown",
   "id": "a6e27b25",
   "metadata": {},
   "source": [
    "1. Create a list of 10 random integers between 1 and 100 and print it.\n",
    "   You can use randint library\n",
    "   import random\n",
    "   there is a function cals"
   ]
  },
  {
   "cell_type": "code",
   "execution_count": 10,
   "id": "b66255df-65f7-4580-9bfc-ed1d882e1fa5",
   "metadata": {},
   "outputs": [
    {
     "name": "stdout",
     "output_type": "stream",
     "text": [
      "[32, 64, 46, 71, 13, 4, 18, 70, 65, 83]\n"
     ]
    }
   ],
   "source": [
    "import random\n",
    "my_list = []\n",
    "my_len = 10\n",
    "for i in range(my_len):\n",
    "    my_list.append(random.randint(1, 100))\n",
    "print(my_list)"
   ]
  },
  {
   "cell_type": "markdown",
   "id": "7c72c073-977a-4fc1-9b0b-92d5c117ef92",
   "metadata": {},
   "source": [
    "2. Write a function to find the mean, median, and mode of the above created list.\n",
    "   you can use any library numpy, scipy, statistics or panda"
   ]
  },
  {
   "cell_type": "code",
   "execution_count": 12,
   "id": "0a4f0ec3-54ea-409a-88f6-c14a68ab899c",
   "metadata": {},
   "outputs": [
    {
     "name": "stdout",
     "output_type": "stream",
     "text": [
      "Mean : 46.6\n",
      "Median : 55.0\n",
      "Mode : ModeResult(mode=4, count=1)\n"
     ]
    }
   ],
   "source": [
    "import numpy\n",
    "from scipy import stats\n",
    "my_mean = numpy.mean(my_list)\n",
    "my_median = numpy.median(my_list)\n",
    "my_mode = stats.mode(my_list)\n",
    "print(\"Mean :\", my_mean)\n",
    "print(\"Median :\", my_median)\n",
    "print(\"Mode :\", my_mode)"
   ]
  },
  {
   "cell_type": "markdown",
   "id": "013a9d73-3fe5-4116-97b5-304b4a4aa27c",
   "metadata": {},
   "source": [
    "3. Create a dictionary from the created list where keys are the elements and values are their squares.\n",
    "   #Save it in \"squared_dict\" which is being used in following block of code."
   ]
  },
  {
   "cell_type": "code",
   "execution_count": 14,
   "id": "18f0f4ad-0de5-45f8-b15d-486a32c6ba99",
   "metadata": {},
   "outputs": [
    {
     "name": "stdout",
     "output_type": "stream",
     "text": [
      "{32: 1024, 64: 4096, 46: 2116, 71: 5041, 13: 169, 4: 16, 18: 324, 70: 4900, 65: 4225, 83: 6889}\n"
     ]
    }
   ],
   "source": [
    "squared_dict = {}\n",
    "for i in range(len(my_list)):\n",
    "    squared_dict[my_list[i]] = my_list[i] ** 2\n",
    "\n",
    "print(squared_dict)"
   ]
  },
  {
   "cell_type": "markdown",
   "id": "3ecbbb23-b75a-4d35-a37c-3e7c6a403d5d",
   "metadata": {},
   "source": [
    "4. Implement a function to find the key with the maximum value in the dictionary."
   ]
  },
  {
   "cell_type": "code",
   "execution_count": 16,
   "id": "c1cbad0e-9b7d-4371-9e35-6a9f9438c6a8",
   "metadata": {},
   "outputs": [
    {
     "name": "stdout",
     "output_type": "stream",
     "text": [
      "83\n"
     ]
    }
   ],
   "source": [
    "def find_max_value_key(squared_dict):\n",
    "    max_key = max(squared_dict, key=squared_dict.get)\n",
    "    \n",
    "    return max_key\n",
    "max_key = find_max_value_key(squared_dict)\n",
    "print(max_key)"
   ]
  },
  {
   "cell_type": "markdown",
   "id": "7a3253fe",
   "metadata": {},
   "source": [
    "### 2. **String Manipulation**"
   ]
  },
  {
   "cell_type": "markdown",
   "id": "836e049e",
   "metadata": {},
   "source": [
    "1. Write a function to reverse a string and check if it is a palindrome.\n",
    "   write you name in example_string_2"
   ]
  },
  {
   "cell_type": "code",
   "execution_count": 19,
   "id": "3afdddb1-7a8f-459a-b6ee-d97630b80237",
   "metadata": {},
   "outputs": [
    {
     "name": "stdout",
     "output_type": "stream",
     "text": [
      "True\n",
      "False\n"
     ]
    }
   ],
   "source": [
    "example_string_1 = \"madam\"\n",
    "example_string_2 = \"colin\" # write your name in the string\n",
    "#write your code here\n",
    "\n",
    "def isPal(str):\n",
    "    rev = ''.join(reversed(str))\n",
    "    if(str == rev):\n",
    "        return True\n",
    "    return False\n",
    "\n",
    "ans1 = isPal(example_string_1)\n",
    "ans2 = isPal(example_string_2)\n",
    "\n",
    "print(ans1)\n",
    "print(ans2)\n"
   ]
  },
  {
   "cell_type": "markdown",
   "id": "022c0abc-6071-4cbf-93d1-f28c9f6f348d",
   "metadata": {},
   "source": [
    "2. Create a function that counts the number of vowels in a given string.\n",
    "   check with above given strings, example_string_1 and example_string_2 and print the output"
   ]
  },
  {
   "cell_type": "code",
   "execution_count": 21,
   "id": "3a9a47eb-29b9-4ab8-91bb-91492876cf25",
   "metadata": {},
   "outputs": [
    {
     "name": "stdout",
     "output_type": "stream",
     "text": [
      "Ex_Str_1 Vowel Count: 2\n",
      "Ex_Str_2 Vowel Count: 2\n"
     ]
    }
   ],
   "source": [
    "def countVowel(str):\n",
    "    vowel_list = ['a', 'e', 'i', 'o', 'u']\n",
    "    vowel_count = 0\n",
    "    for i in range(len(str)):\n",
    "        if str[i] in vowel_list:\n",
    "            vowel_count+=1\n",
    "        \n",
    "    return vowel_count\n",
    "\n",
    "vc1 = countVowel(example_string_1)\n",
    "vc2 = countVowel(example_string_2)\n",
    "\n",
    "print(\"Ex_Str_1 Vowel Count:\", vc1)\n",
    "print(\"Ex_Str_2 Vowel Count:\", vc2)"
   ]
  },
  {
   "cell_type": "markdown",
   "id": "48eb5e02",
   "metadata": {},
   "source": [
    "## **Part 2: NumPy Operations**"
   ]
  },
  {
   "cell_type": "markdown",
   "id": "2ffcd433",
   "metadata": {},
   "source": [
    "### 1. **Array Creation and Manipulation**"
   ]
  },
  {
   "cell_type": "markdown",
   "id": "b91b49f5",
   "metadata": {},
   "source": [
    "1. Create a 5x5 NumPy array with random integers between 1 and 100 and print it. "
   ]
  },
  {
   "cell_type": "code",
   "execution_count": 58,
   "id": "6e7b13d3-53a4-4ba6-b5b8-814ec2236796",
   "metadata": {},
   "outputs": [
    {
     "name": "stdout",
     "output_type": "stream",
     "text": [
      "[[68 10  3 82  9]\n",
      " [77 57 80 90 45]\n",
      " [25 67 50 45 46]\n",
      " [29 39 90 27 40]\n",
      " [17 97 43 77 71]]\n"
     ]
    }
   ],
   "source": [
    "my_arr = numpy.random.randint(1, 101, size=(5, 5))\n",
    "\n",
    "print(my_arr)"
   ]
  },
  {
   "cell_type": "markdown",
   "id": "f4769933-bad1-4546-b4c3-214647dd4400",
   "metadata": {},
   "source": [
    "2. Replace all even numbers in the array with -1 and than print the output"
   ]
  },
  {
   "cell_type": "code",
   "execution_count": 60,
   "id": "3d82b59f-1762-4eff-896b-77905a5e3340",
   "metadata": {},
   "outputs": [
    {
     "name": "stdout",
     "output_type": "stream",
     "text": [
      "[[-1 -1  3 -1  9]\n",
      " [77 57 -1 -1 45]\n",
      " [25 67 -1 45 -1]\n",
      " [29 39 -1 27 -1]\n",
      " [17 97 43 77 71]]\n"
     ]
    }
   ],
   "source": [
    "my_arr[my_arr % 2 == 0] = -1\n",
    "\n",
    "print(my_arr)"
   ]
  },
  {
   "cell_type": "markdown",
   "id": "b4a36da5-35ed-4705-a028-79892187c250",
   "metadata": {},
   "source": [
    "3. Calculate the mean and standard deviation of the array elements and than print the output\n",
    "   use numpy library"
   ]
  },
  {
   "cell_type": "code",
   "execution_count": 62,
   "id": "8b8e84c2-5a6d-45a9-b683-29f638ff2cb4",
   "metadata": {},
   "outputs": [
    {
     "name": "stdout",
     "output_type": "stream",
     "text": [
      "Mean : 28.76\n",
      "My Std. Dev. 30.574865494389343\n"
     ]
    }
   ],
   "source": [
    "my_mean = numpy.mean(my_arr)\n",
    "my_stdv = numpy.std(my_arr)\n",
    "\n",
    "print(\"Mean :\", my_mean)\n",
    "print(\"My Std. Dev.\", my_stdv)"
   ]
  },
  {
   "cell_type": "markdown",
   "id": "550d6edc-2719-4cba-b710-c14fd9e7ceb2",
   "metadata": {},
   "source": [
    "4. Reshape the array to a 1x25 array and then back to a 5x5 array and than print the output. "
   ]
  },
  {
   "cell_type": "code",
   "execution_count": 64,
   "id": "7e32d3a0-77d0-467c-9995-012d87a6075c",
   "metadata": {},
   "outputs": [
    {
     "name": "stdout",
     "output_type": "stream",
     "text": [
      "[[-1 -1  3 -1  9 77 57 -1 -1 45 25 67 -1 45 -1 29 39 -1 27 -1 17 97 43 77\n",
      "  71]]\n",
      "[[-1 -1  3 -1  9]\n",
      " [77 57 -1 -1 45]\n",
      " [25 67 -1 45 -1]\n",
      " [29 39 -1 27 -1]\n",
      " [17 97 43 77 71]]\n"
     ]
    }
   ],
   "source": [
    "new_arr = my_arr.reshape(1, 25)\n",
    "print(new_arr)\n",
    "new_arr = my_arr.reshape(5, 5)\n",
    "print(new_arr)"
   ]
  },
  {
   "cell_type": "markdown",
   "id": "6c3a8c0b",
   "metadata": {},
   "source": [
    "### 2. **Linear Algebra with NumPy**"
   ]
  },
  {
   "cell_type": "markdown",
   "id": "e820ee8f",
   "metadata": {},
   "source": [
    "1. Create two 3x3 matrices."
   ]
  },
  {
   "cell_type": "code",
   "execution_count": 34,
   "id": "acecfeb0-6e53-46aa-8552-b1a916f3e441",
   "metadata": {},
   "outputs": [
    {
     "name": "stdout",
     "output_type": "stream",
     "text": [
      "[[39  1 17]\n",
      " [17 53 99]\n",
      " [40 25 59]]\n",
      "[[14 25 47]\n",
      " [18 15  1]\n",
      " [62 93 18]]\n"
     ]
    }
   ],
   "source": [
    "arr_one = numpy.random.randint(1, 101, size=(3, 3))\n",
    "arr_two = numpy.random.randint(1, 101, size=(3, 3))\n",
    "\n",
    "print(arr_one)\n",
    "print(arr_two)"
   ]
  },
  {
   "cell_type": "markdown",
   "id": "ea1ee2c9-b97a-4db2-9605-a6732b8248ec",
   "metadata": {},
   "source": [
    "2. Perform addition of created matrices and print it."
   ]
  },
  {
   "cell_type": "code",
   "execution_count": 36,
   "id": "6be29847-c091-45f5-9c55-18ea3d5039c0",
   "metadata": {},
   "outputs": [
    {
     "name": "stdout",
     "output_type": "stream",
     "text": [
      "[[ 53  26  64]\n",
      " [ 35  68 100]\n",
      " [102 118  77]]\n"
     ]
    }
   ],
   "source": [
    "arr_sum = arr_one + arr_two \n",
    "print(arr_sum)"
   ]
  },
  {
   "cell_type": "markdown",
   "id": "55e389c6-2908-4f87-bc98-1db4b9c42e4f",
   "metadata": {},
   "source": [
    "3. Perform subtraction of created matrices and print the output"
   ]
  },
  {
   "cell_type": "code",
   "execution_count": 38,
   "id": "be6c710c-9f36-4e8d-80e2-3216c268e3f1",
   "metadata": {},
   "outputs": [
    {
     "name": "stdout",
     "output_type": "stream",
     "text": [
      "[[ 25 -24 -30]\n",
      " [ -1  38  98]\n",
      " [-22 -68  41]]\n"
     ]
    }
   ],
   "source": [
    "arr_sub = arr_one - arr_two\n",
    "print(arr_sub)"
   ]
  },
  {
   "cell_type": "markdown",
   "id": "7897e5c5-331a-43cc-a788-d819b6c93e28",
   "metadata": {},
   "source": [
    "4. Perform multiplication of created matrices and print the output. "
   ]
  },
  {
   "cell_type": "code",
   "execution_count": 40,
   "id": "66a35d11-a673-40eb-bef9-42155fa99a4c",
   "metadata": {},
   "outputs": [
    {
     "name": "stdout",
     "output_type": "stream",
     "text": [
      "[[ 546   25  799]\n",
      " [ 306  795   99]\n",
      " [2480 2325 1062]]\n"
     ]
    }
   ],
   "source": [
    "arr_prod = arr_one * arr_two\n",
    "print(arr_prod)"
   ]
  },
  {
   "cell_type": "markdown",
   "id": "e17ef63c-c1dc-4517-b735-033a5466ae43",
   "metadata": {},
   "source": [
    "5. Find the determinant of one of the the matrices."
   ]
  },
  {
   "cell_type": "code",
   "execution_count": 66,
   "id": "83b0c462-99e9-401d-b4f9-457f28b6540d",
   "metadata": {},
   "outputs": [
    {
     "name": "stdout",
     "output_type": "stream",
     "text": [
      "-430.00000000000216\n"
     ]
    }
   ],
   "source": [
    "arr_one_det = numpy.linalg.det(arr_one)\n",
    "print(arr_one_det)"
   ]
  },
  {
   "cell_type": "markdown",
   "id": "6b6dbaa6-b958-441d-b70d-0804fd3aa3f5",
   "metadata": {},
   "source": [
    "6. Find the inverse of one of the matrices."
   ]
  },
  {
   "cell_type": "code",
   "execution_count": 44,
   "id": "7050cca2-6847-4e9d-974a-570c1a301e69",
   "metadata": {},
   "outputs": [
    {
     "name": "stdout",
     "output_type": "stream",
     "text": [
      "[[ 0.0057289   0.12690963 -0.02200932]\n",
      " [-0.00848006 -0.08616002  0.02692905]\n",
      " [ 0.02408079  0.00802693 -0.007768  ]]\n"
     ]
    }
   ],
   "source": [
    "arr_two_inv = numpy.linalg.inv(arr_two)\n",
    "print(arr_two_inv)"
   ]
  },
  {
   "cell_type": "markdown",
   "id": "e8c1d3e6",
   "metadata": {},
   "source": [
    "## **Part 3: Data Visualization with Matplotlib**"
   ]
  },
  {
   "cell_type": "markdown",
   "id": "9734514d",
   "metadata": {},
   "source": [
    "### 1. **Plotting Basics**"
   ]
  },
  {
   "cell_type": "markdown",
   "id": "aeace7d3-73c0-4103-9b23-6771af906e59",
   "metadata": {},
   "source": [
    "1. Using the data from the sine and cosine waves, create a subplot that shows both plots individually.\n",
    "   Hint_1: you can use np.linspace to generate hundred points from 0 to 2π\n",
    "   Hint_2: use these values of linspace to create sin and cosie values using np.sin() and np.cos()\n",
    "   Hint_3: Use matplotlib library for and make subplots."
   ]
  },
  {
   "cell_type": "code",
   "execution_count": 53,
   "id": "895c04e8-8e5c-4cf2-9761-9ac1f9f76195",
   "metadata": {},
   "outputs": [
    {
     "data": {
      "image/png": "[encoded data removed]",
      "text/plain": [
       "<Figure size 640x480 with 1 Axes>"
      ]
     },
     "metadata": {},
     "output_type": "display_data"
    }
   ],
   "source": [
    "import matplotlib.pyplot as plt\n",
    "\n",
    "my_values = []\n",
    "sin_values = []\n",
    "cos_values = []\n",
    "\n",
    "my_values = numpy.linspace(0, 2*numpy.pi, 100)\n",
    "\n",
    "for i in range(len(my_values)):\n",
    "    sin_values.append(numpy.sin(my_values[i]))\n",
    "\n",
    "for i in range(len(my_values)):\n",
    "    cos_values.append(numpy.cos(my_values[i]))\n",
    "\n",
    "plt.title('Sin(x) vs Cos(x)')\n",
    "plt.xlabel('X-axis')\n",
    "plt.ylabel('Y-axis')\n",
    "plt.plot(my_values, sin_values, label='y = sin(x)')\n",
    "plt.plot(my_values, cos_values, label='y = cos(x)')\n",
    "plt.legend()\n",
    "plt.show()"
   ]
  },
  {
   "cell_type": "markdown",
   "id": "8e7004c8",
   "metadata": {},
   "source": [
    "2. Plot a scatter plot of 100 random points with varying sizes and colors. Include gridlines and labels for the axes. Use numpy and Matplotlib library."
   ]
  },
  {
   "cell_type": "code",
   "execution_count": 56,
   "id": "88e769e8-45df-42f7-b624-6024d9e3a21c",
   "metadata": {},
   "outputs": [
    {
     "data": {
      "image/png": "[encoded data removed]",
      "text/plain": [
       "<Figure size 640x480 with 1 Axes>"
      ]
     },
     "metadata": {},
     "output_type": "display_data"
    }
   ],
   "source": [
    "x_values = []\n",
    "y_values = []\n",
    "my_colors = []\n",
    "my_sizes = []\n",
    "my_len = 100\n",
    "\n",
    "for i in range(my_len):\n",
    "    x_values.append(random.randint(1, 100))\n",
    "\n",
    "for i in range (my_len):\n",
    "    y_values.append(random.randint(1, 100))\n",
    "\n",
    "for i in range(my_len):\n",
    "    my_sizes.append(random.randint(20, 200))\n",
    "    \n",
    "for i in range(my_len):\n",
    "    my_colors.append((random.random(), random.random(), random.random()))\n",
    "    \n",
    "\n",
    "plt.title('100 Random Points')\n",
    "plt.xlabel('X-axis')\n",
    "plt.ylabel('Y-axis')\n",
    "plt.grid(True)\n",
    "plt.scatter(x_values, y_values, s = my_sizes, c = my_colors)\n",
    "plt.show()"
   ]
  },
  {
   "cell_type": "code",
   "execution_count": null,
   "id": "038b006d-651f-420c-8896-73e4269faf09",
   "metadata": {},
   "outputs": [],
   "source": []
  }
 ],
 "metadata": {
  "kernelspec": {
   "display_name": "Python 3 (ipykernel)",
   "language": "python",
   "name": "python3"
  },
  "language_info": {
   "codemirror_mode": {
    "name": "ipython",
    "version": 3
   },
   "file_extension": ".py",
   "mimetype": "text/x-python",
   "name": "python",
   "nbconvert_exporter": "python",
   "pygments_lexer": "ipython3",
   "version": "3.12.4"
  }
 },
 "nbformat": 4,
 "nbformat_minor": 5
}
